{
  "nbformat": 4,
  "nbformat_minor": 0,
  "metadata": {
    "colab": {
      "name": "Assignment_Session2.ipynb",
      "version": "0.3.2",
      "provenance": [],
      "collapsed_sections": [],
      "include_colab_link": true
    },
    "kernelspec": {
      "name": "python3",
      "display_name": "Python 3"
    },
    "accelerator": "GPU"
  },
  "cells": [
    {
      "cell_type": "markdown",
      "metadata": {
        "id": "view-in-github",
        "colab_type": "text"
      },
      "source": [
        "<a href=\"https://colab.research.google.com/github/asudupa/DS-Repo/blob/master/Assignment_Session2.ipynb\" target=\"_parent\"><img src=\"https://colab.research.google.com/assets/colab-badge.svg\" alt=\"Open In Colab\"/></a>"
      ]
    },
    {
      "cell_type": "markdown",
      "metadata": {
        "id": "-nJ7YEw_vyjG",
        "colab_type": "text"
      },
      "source": [
        "# **Not an ideal network**"
      ]
    },
    {
      "cell_type": "markdown",
      "metadata": {
        "id": "4sFUniUTRdxh",
        "colab_type": "text"
      },
      "source": [
        "Keras is installed to ensure latest version (2.2.1) is installed. This will cause function call incompatibility in later cell while defining conv layers in the model.\n"
      ]
    },
    {
      "cell_type": "code",
      "metadata": {
        "id": "kGWv5hBhv2jf",
        "colab_type": "code",
        "outputId": "e3fedb37-af45-48bc-ea78-0fcbdd38f646",
        "colab": {
          "base_uri": "https://localhost:8080/",
          "height": 33
        }
      },
      "source": [
        "# https://keras.io/\n",
        "!pip install -q keras\n",
        "import keras"
      ],
      "execution_count": 0,
      "outputs": [
        {
          "output_type": "stream",
          "text": [
            "Using TensorFlow backend.\n"
          ],
          "name": "stderr"
        }
      ]
    },
    {
      "cell_type": "code",
      "metadata": {
        "id": "wnMlDJQKv4VG",
        "colab_type": "code",
        "colab": {}
      },
      "source": [
        "import numpy as np\n",
        "\n",
        "from keras.models import Sequential\n",
        "from keras.layers import Flatten\n",
        "from keras.layers import Convolution2D\n",
        "from keras.utils import np_utils\n",
        "\n",
        "from keras.datasets import mnist"
      ],
      "execution_count": 0,
      "outputs": []
    },
    {
      "cell_type": "markdown",
      "metadata": {
        "id": "PXZ4wlOcRw7d",
        "colab_type": "text"
      },
      "source": [
        "In above cell, all libraries are imported. In later cells functions from these libraries are called"
      ]
    },
    {
      "cell_type": "code",
      "metadata": {
        "id": "8CdSu2lMwB9s",
        "colab_type": "code",
        "colab": {}
      },
      "source": [
        "(X_train, y_train), (X_test, y_test) = mnist.load_data()"
      ],
      "execution_count": 0,
      "outputs": []
    },
    {
      "cell_type": "markdown",
      "metadata": {
        "id": "JPyJCmNNSCig",
        "colab_type": "text"
      },
      "source": [
        "MNIST data is is loaded from (https://s3.amazonaws.com/img-datasets/mnist.npz)  location. It is comprised of 60,000 images (for training) of 28x28 grayscale images of handwritten numbers 0 to 9. It has 10,000 images to test the model.\n",
        "On left side of equation, training data are assigned to X_train, y_train variables, test data are assigned to X_test, y_text.\n",
        "Here X is data and y is the label of the data stating if the image is on number between 0-9."
      ]
    },
    {
      "cell_type": "code",
      "metadata": {
        "id": "tLaDf0-rwCmj",
        "colab_type": "code",
        "outputId": "4a13a123-6e0e-47d3-8bc2-0b570a7a860d",
        "colab": {
          "base_uri": "https://localhost:8080/",
          "height": 302
        }
      },
      "source": [
        "print (X_train.shape)\n",
        "from matplotlib import pyplot as plt\n",
        "%matplotlib inline\n",
        "plt.imshow(X_train[0])"
      ],
      "execution_count": 0,
      "outputs": [
        {
          "output_type": "stream",
          "text": [
            "(60000, 28, 28)\n"
          ],
          "name": "stdout"
        },
        {
          "output_type": "execute_result",
          "data": {
            "text/plain": [
              "<matplotlib.image.AxesImage at 0x7fa4291792e8>"
            ]
          },
          "metadata": {
            "tags": []
          },
          "execution_count": 5
        },
        {
          "output_type": "display_data",
          "data": {
            "image/png": "[encoded data removed]",
            "text/plain": [
              "<Figure size 432x288 with 1 Axes>"
            ]
          },
          "metadata": {
            "tags": []
          }
        }
      ]
    },
    {
      "cell_type": "markdown",
      "metadata": {
        "id": "zJySrQwZV1cn",
        "colab_type": "text"
      },
      "source": [
        "Shape of X_train is printed to get insight on how many images and of what resolution. There are 60,000 images of 28x28 size.\n",
        "With matplot, first image is plotted."
      ]
    },
    {
      "cell_type": "code",
      "metadata": {
        "id": "erb11jNwwFwl",
        "colab_type": "code",
        "colab": {}
      },
      "source": [
        "X_train = X_train.reshape(X_train.shape[0], 28, 28,1)\n",
        "X_test = X_test.reshape(X_test.shape[0], 28, 28,1)"
      ],
      "execution_count": 0,
      "outputs": []
    },
    {
      "cell_type": "markdown",
      "metadata": {
        "id": "jjswXLpfWSK6",
        "colab_type": "text"
      },
      "source": [
        "Depth of the image should be explictly mentioned for keras, being grayscale image, of 28x28, 28, 28, 1 is mentioned and also 4th dimension as samples count (''[0]''), i.e. 60000 is mentioned.\n",
        "Line X_train_reshape defined that; adds a dimension for sample count, x, y size and depth as 1.\n",
        "Same is repeated for test data."
      ]
    },
    {
      "cell_type": "code",
      "metadata": {
        "id": "RLK4YDoRwHet",
        "colab_type": "code",
        "colab": {}
      },
      "source": [
        "X_train = X_train.astype('float32')\n",
        "X_test = X_test.astype('float32')\n",
        "X_train /= 255\n",
        "X_test /= 255"
      ],
      "execution_count": 0,
      "outputs": []
    },
    {
      "cell_type": "markdown",
      "metadata": {
        "id": "VWOrHUKEZoBK",
        "colab_type": "text"
      },
      "source": [
        "Data type is converted to float to accomdate decimals post normalization.\n",
        "Data is normalized by dividing by 255."
      ]
    },
    {
      "cell_type": "code",
      "metadata": {
        "id": "JNKLOmhlwJQl",
        "colab_type": "code",
        "outputId": "18a38644-e100-4b21-cde1-0d459e63eaef",
        "colab": {
          "base_uri": "https://localhost:8080/",
          "height": 33
        }
      },
      "source": [
        "y_train[:10]"
      ],
      "execution_count": 0,
      "outputs": [
        {
          "output_type": "execute_result",
          "data": {
            "text/plain": [
              "array([5, 0, 4, 1, 9, 2, 1, 3, 1, 4], dtype=uint8)"
            ]
          },
          "metadata": {
            "tags": []
          },
          "execution_count": 8
        }
      ]
    },
    {
      "cell_type": "markdown",
      "metadata": {
        "id": "zbqt51pnZ616",
        "colab_type": "text"
      },
      "source": [
        "Last 10 rows of training labels are printed to check."
      ]
    },
    {
      "cell_type": "code",
      "metadata": {
        "id": "YusMJguiwKsM",
        "colab_type": "code",
        "colab": {}
      },
      "source": [
        "# Convert 1-dimensional class arrays to 10-dimensional class matrices\n",
        "Y_train = np_utils.to_categorical(y_train, 10)\n",
        "Y_test = np_utils.to_categorical(y_test, 10)"
      ],
      "execution_count": 0,
      "outputs": []
    },
    {
      "cell_type": "markdown",
      "metadata": {
        "id": "h2JQ-_gpaF7h",
        "colab_type": "text"
      },
      "source": [
        "Here labels of training and test data are converted from integer 0-9 to categorical format 0-9. This is ensure that the labels are of categorical type than integer. Labels of both train and test are converted."
      ]
    },
    {
      "cell_type": "code",
      "metadata": {
        "id": "upxc99AswMW0",
        "colab_type": "code",
        "outputId": "61d7d430-9f27-4ce6-a896-be430fec2b03",
        "colab": {
          "base_uri": "https://localhost:8080/",
          "height": 183
        }
      },
      "source": [
        "Y_train[:10]\n"
      ],
      "execution_count": 0,
      "outputs": [
        {
          "output_type": "execute_result",
          "data": {
            "text/plain": [
              "array([[0., 0., 0., 0., 0., 1., 0., 0., 0., 0.],\n",
              "       [1., 0., 0., 0., 0., 0., 0., 0., 0., 0.],\n",
              "       [0., 0., 0., 0., 1., 0., 0., 0., 0., 0.],\n",
              "       [0., 1., 0., 0., 0., 0., 0., 0., 0., 0.],\n",
              "       [0., 0., 0., 0., 0., 0., 0., 0., 0., 1.],\n",
              "       [0., 0., 1., 0., 0., 0., 0., 0., 0., 0.],\n",
              "       [0., 1., 0., 0., 0., 0., 0., 0., 0., 0.],\n",
              "       [0., 0., 0., 1., 0., 0., 0., 0., 0., 0.],\n",
              "       [0., 1., 0., 0., 0., 0., 0., 0., 0., 0.],\n",
              "       [0., 0., 0., 0., 1., 0., 0., 0., 0., 0.]], dtype=float32)"
            ]
          },
          "metadata": {
            "tags": []
          },
          "execution_count": 10
        }
      ]
    },
    {
      "cell_type": "markdown",
      "metadata": {
        "id": "qMz5PMAEcOQK",
        "colab_type": "text"
      },
      "source": [
        "Post conversion, labels on last 10 rows are printed. Now it displays as categorical data than integer."
      ]
    },
    {
      "cell_type": "code",
      "metadata": {
        "id": "irTVUE47wNwr",
        "colab_type": "code",
        "outputId": "4b80b44b-22b3-42c6-e1f6-94c04bbe5f4a",
        "colab": {
          "base_uri": "https://localhost:8080/",
          "height": 837
        }
      },
      "source": [
        "from keras.layers import Activation, MaxPooling2D\n",
        "\n",
        "model = Sequential() \n",
        "model.add(Convolution2D(32, 3, 3, activation='relu', input_shape=(28,28,1)))   #RF 3,  input channel 28x28x1\n",
        "model.add(Convolution2D(64, 3, 3, activation='relu'))                          #RF 5,  input channel 26x26x32\n",
        "model.add(Convolution2D(128, 3, 3, activation='relu'))                         #RF 7,  input channel 24x24x64\n",
        "\n",
        "model.add(MaxPooling2D(pool_size=(2, 2)))                                      #RF 7,  input channel 22x22x128\n",
        "\n",
        "model.add(Convolution2D(256, 3, 3, activation='relu'))                         #RF 9,  input channel 11x11x128\n",
        "model.add(Convolution2D(512, 3, 3, activation='relu'))                         #RF 11, input channel 9x9x256\n",
        "model.add(Convolution2D(1024, 3, 3, activation='relu'))                        #RF 13, input channel 7x7x512\n",
        "model.add(Convolution2D(2048, 3, 3, activation='relu'))                        #RF 15, input channel 5x5x1024\n",
        "model.add(Convolution2D(10, 3, 3, activation='relu'))                          #RF 17, input channel 3x3x2048\n",
        "\n",
        "model.add(Flatten())                                                           #RF - , input channel 1x1x10 \n",
        "model.add(Activation('softmax'))                                               #RF - , input channel 1x1x10\n",
        "\n",
        "model.summary()"
      ],
      "execution_count": 0,
      "outputs": [
        {
          "output_type": "stream",
          "text": [
            "WARNING:tensorflow:From /usr/local/lib/python3.6/dist-packages/tensorflow/python/framework/op_def_library.py:263: colocate_with (from tensorflow.python.framework.ops) is deprecated and will be removed in a future version.\n",
            "Instructions for updating:\n",
            "Colocations handled automatically by placer.\n"
          ],
          "name": "stdout"
        },
        {
          "output_type": "stream",
          "text": [
            "/usr/local/lib/python3.6/dist-packages/ipykernel_launcher.py:4: UserWarning: Update your `Conv2D` call to the Keras 2 API: `Conv2D(32, (3, 3), activation=\"relu\", input_shape=(28, 28, 1...)`\n",
            "  after removing the cwd from sys.path.\n",
            "/usr/local/lib/python3.6/dist-packages/ipykernel_launcher.py:5: UserWarning: Update your `Conv2D` call to the Keras 2 API: `Conv2D(64, (3, 3), activation=\"relu\")`\n",
            "  \"\"\"\n",
            "/usr/local/lib/python3.6/dist-packages/ipykernel_launcher.py:6: UserWarning: Update your `Conv2D` call to the Keras 2 API: `Conv2D(128, (3, 3), activation=\"relu\")`\n",
            "  \n",
            "/usr/local/lib/python3.6/dist-packages/ipykernel_launcher.py:10: UserWarning: Update your `Conv2D` call to the Keras 2 API: `Conv2D(256, (3, 3), activation=\"relu\")`\n",
            "  # Remove the CWD from sys.path while we load stuff.\n",
            "/usr/local/lib/python3.6/dist-packages/ipykernel_launcher.py:11: UserWarning: Update your `Conv2D` call to the Keras 2 API: `Conv2D(512, (3, 3), activation=\"relu\")`\n",
            "  # This is added back by InteractiveShellApp.init_path()\n",
            "/usr/local/lib/python3.6/dist-packages/ipykernel_launcher.py:12: UserWarning: Update your `Conv2D` call to the Keras 2 API: `Conv2D(1024, (3, 3), activation=\"relu\")`\n",
            "  if sys.path[0] == '':\n",
            "/usr/local/lib/python3.6/dist-packages/ipykernel_launcher.py:13: UserWarning: Update your `Conv2D` call to the Keras 2 API: `Conv2D(2048, (3, 3), activation=\"relu\")`\n",
            "  del sys.path[0]\n",
            "/usr/local/lib/python3.6/dist-packages/ipykernel_launcher.py:14: UserWarning: Update your `Conv2D` call to the Keras 2 API: `Conv2D(10, (3, 3), activation=\"relu\")`\n",
            "  \n"
          ],
          "name": "stderr"
        },
        {
          "output_type": "stream",
          "text": [
            "_________________________________________________________________\n",
            "Layer (type)                 Output Shape              Param #   \n",
            "=================================================================\n",
            "conv2d_1 (Conv2D)            (None, 26, 26, 32)        320       \n",
            "_________________________________________________________________\n",
            "conv2d_2 (Conv2D)            (None, 24, 24, 64)        18496     \n",
            "_________________________________________________________________\n",
            "conv2d_3 (Conv2D)            (None, 22, 22, 128)       73856     \n",
            "_________________________________________________________________\n",
            "max_pooling2d_1 (MaxPooling2 (None, 11, 11, 128)       0         \n",
            "_________________________________________________________________\n",
            "conv2d_4 (Conv2D)            (None, 9, 9, 256)         295168    \n",
            "_________________________________________________________________\n",
            "conv2d_5 (Conv2D)            (None, 7, 7, 512)         1180160   \n",
            "_________________________________________________________________\n",
            "conv2d_6 (Conv2D)            (None, 5, 5, 1024)        4719616   \n",
            "_________________________________________________________________\n",
            "conv2d_7 (Conv2D)            (None, 3, 3, 2048)        18876416  \n",
            "_________________________________________________________________\n",
            "conv2d_8 (Conv2D)            (None, 1, 1, 10)          184330    \n",
            "_________________________________________________________________\n",
            "flatten_1 (Flatten)          (None, 10)                0         \n",
            "_________________________________________________________________\n",
            "activation_1 (Activation)    (None, 10)                0         \n",
            "=================================================================\n",
            "Total params: 25,348,362\n",
            "Trainable params: 25,348,362\n",
            "Non-trainable params: 0\n",
            "_________________________________________________________________\n"
          ],
          "name": "stdout"
        }
      ]
    },
    {
      "cell_type": "markdown",
      "metadata": {
        "id": "n1T4Eur6cgRI",
        "colab_type": "text"
      },
      "source": [
        "Sequential model is instantiated, as \"model\".\n",
        "Convolutional layers of kernel 3x3, are added in sequence, depth being; 32->64->128->256->512->1024->2048 and finally into 10 categories.\n",
        "Number of channels seems to be very high for a 28x28 greyscale image.\n",
        "And also the API call; model.add(Convolution2D(....)) is outdate for the latest Keras version.\n",
        "This throws warning.   \n",
        "Model summary shows the receptive field convergence from 26, 26, 32-> 24, 24, 64 -> 22, 22, 128 -> MP (11, 11, 128) -> 9, 9, 256 -> 7, 7, 512, -> 5,5, 1024 -> 3,3, 2048, -> 1,1, 10. \n",
        "Summary also states number of parameters in the model."
      ]
    },
    {
      "cell_type": "code",
      "metadata": {
        "id": "VYZOpRb6yG7_",
        "colab_type": "code",
        "colab": {}
      },
      "source": [
        "model.compile(loss='categorical_crossentropy',\n",
        "             optimizer='adam',\n",
        "             metrics=['accuracy'])"
      ],
      "execution_count": 0,
      "outputs": []
    },
    {
      "cell_type": "markdown",
      "metadata": {
        "id": "49aS7KSQeR71",
        "colab_type": "text"
      },
      "source": [
        "Model defined in previous cell is compiled, with 'adam' as optimizer and 'accuracy' as tracking metrics."
      ]
    },
    {
      "cell_type": "code",
      "metadata": {
        "id": "5O248wVQyMft",
        "colab_type": "code",
        "outputId": "1c219cd9-5266-4620-fd9b-b5a328567bd9",
        "colab": {
          "base_uri": "https://localhost:8080/",
          "height": 470
        }
      },
      "source": [
        "model.fit(X_train, Y_train, batch_size=32, nb_epoch=10, verbose=1)"
      ],
      "execution_count": 0,
      "outputs": [
        {
          "output_type": "stream",
          "text": [
            "WARNING:tensorflow:From /usr/local/lib/python3.6/dist-packages/tensorflow/python/ops/math_ops.py:3066: to_int32 (from tensorflow.python.ops.math_ops) is deprecated and will be removed in a future version.\n",
            "Instructions for updating:\n",
            "Use tf.cast instead.\n"
          ],
          "name": "stdout"
        },
        {
          "output_type": "stream",
          "text": [
            "/usr/local/lib/python3.6/dist-packages/ipykernel_launcher.py:1: UserWarning: The `nb_epoch` argument in `fit` has been renamed `epochs`.\n",
            "  \"\"\"Entry point for launching an IPython kernel.\n"
          ],
          "name": "stderr"
        },
        {
          "output_type": "stream",
          "text": [
            "Epoch 1/10\n",
            "60000/60000 [==============================] - 116s 2ms/step - loss: 1.6779 - acc: 0.3835\n",
            "Epoch 2/10\n",
            "60000/60000 [==============================] - 112s 2ms/step - loss: 1.6305 - acc: 0.3975\n",
            "Epoch 3/10\n",
            "60000/60000 [==============================] - 111s 2ms/step - loss: 1.6245 - acc: 0.3997\n",
            "Epoch 4/10\n",
            "60000/60000 [==============================] - 111s 2ms/step - loss: 1.6186 - acc: 0.4012\n",
            "Epoch 5/10\n",
            "60000/60000 [==============================] - 111s 2ms/step - loss: 1.6154 - acc: 0.4016\n",
            "Epoch 6/10\n",
            "60000/60000 [==============================] - 111s 2ms/step - loss: 2.0617 - acc: 0.2160\n",
            "Epoch 7/10\n",
            "60000/60000 [==============================] - 111s 2ms/step - loss: 2.3026 - acc: 0.0987\n",
            "Epoch 8/10\n",
            "60000/60000 [==============================] - 111s 2ms/step - loss: 2.3026 - acc: 0.0987\n",
            "Epoch 9/10\n",
            "60000/60000 [==============================] - 111s 2ms/step - loss: 2.3026 - acc: 0.0987\n",
            "Epoch 10/10\n",
            "60000/60000 [==============================] - 111s 2ms/step - loss: 2.3026 - acc: 0.0987\n"
          ],
          "name": "stdout"
        },
        {
          "output_type": "execute_result",
          "data": {
            "text/plain": [
              "<keras.callbacks.History at 0x7fa429179710>"
            ]
          },
          "metadata": {
            "tags": []
          },
          "execution_count": 13
        }
      ]
    },
    {
      "cell_type": "markdown",
      "metadata": {
        "id": "fuSOxpxiebck",
        "colab_type": "text"
      },
      "source": [
        "Here the model is trained, with batch size as 32 and epoch as 10.\n",
        "Batch size seem to be low, could be increased."
      ]
    },
    {
      "cell_type": "code",
      "metadata": {
        "id": "Sst4KneiyOL5",
        "colab_type": "code",
        "colab": {}
      },
      "source": [
        "score = model.evaluate(X_test, Y_test, verbose=0)"
      ],
      "execution_count": 0,
      "outputs": []
    },
    {
      "cell_type": "markdown",
      "metadata": {
        "id": "n5f19_lQemAk",
        "colab_type": "text"
      },
      "source": [
        "Once trained the model is evaluated against the label."
      ]
    },
    {
      "cell_type": "code",
      "metadata": {
        "id": "CfJiXOKsyj4y",
        "colab_type": "code",
        "outputId": "e344a085-d2b0-4ac8-efd2-3688035aecac",
        "colab": {
          "base_uri": "https://localhost:8080/",
          "height": 33
        }
      },
      "source": [
        "print(score)"
      ],
      "execution_count": 0,
      "outputs": [
        {
          "output_type": "stream",
          "text": [
            "[2.3025851249694824, 0.098]\n"
          ],
          "name": "stdout"
        }
      ]
    },
    {
      "cell_type": "markdown",
      "metadata": {
        "id": "RUeGMKvievq5",
        "colab_type": "text"
      },
      "source": [
        "Score is printed"
      ]
    },
    {
      "cell_type": "code",
      "metadata": {
        "id": "hwLSXt7nyn_0",
        "colab_type": "code",
        "colab": {}
      },
      "source": [
        "y_pred = model.predict(X_test)"
      ],
      "execution_count": 0,
      "outputs": []
    },
    {
      "cell_type": "markdown",
      "metadata": {
        "id": "1sD2tPkLexsE",
        "colab_type": "text"
      },
      "source": [
        "Here the model is used to predict on test data, to check how well it is trained."
      ]
    },
    {
      "cell_type": "code",
      "metadata": {
        "id": "WWKKoOKwyppN",
        "colab_type": "code",
        "outputId": "224efe98-f6ad-4b6e-9d91-6e1092e8f637",
        "colab": {
          "base_uri": "https://localhost:8080/",
          "height": 183
        }
      },
      "source": [
        "print(y_pred[:9])\n",
        "print(y_test[:9])"
      ],
      "execution_count": 0,
      "outputs": [
        {
          "output_type": "stream",
          "text": [
            "[[0.1 0.1 0.1 0.1 0.1 0.1 0.1 0.1 0.1 0.1]\n",
            " [0.1 0.1 0.1 0.1 0.1 0.1 0.1 0.1 0.1 0.1]\n",
            " [0.1 0.1 0.1 0.1 0.1 0.1 0.1 0.1 0.1 0.1]\n",
            " [0.1 0.1 0.1 0.1 0.1 0.1 0.1 0.1 0.1 0.1]\n",
            " [0.1 0.1 0.1 0.1 0.1 0.1 0.1 0.1 0.1 0.1]\n",
            " [0.1 0.1 0.1 0.1 0.1 0.1 0.1 0.1 0.1 0.1]\n",
            " [0.1 0.1 0.1 0.1 0.1 0.1 0.1 0.1 0.1 0.1]\n",
            " [0.1 0.1 0.1 0.1 0.1 0.1 0.1 0.1 0.1 0.1]\n",
            " [0.1 0.1 0.1 0.1 0.1 0.1 0.1 0.1 0.1 0.1]]\n",
            "[7 2 1 0 4 1 4 9 5]\n"
          ],
          "name": "stdout"
        }
      ]
    },
    {
      "cell_type": "markdown",
      "metadata": {
        "id": "xu2xTlcSe5mJ",
        "colab_type": "text"
      },
      "source": [
        "last 9 rows of prediction is printed."
      ]
    },
    {
      "cell_type": "markdown",
      "metadata": {
        "id": "IaXxobHzsUM4",
        "colab_type": "text"
      },
      "source": [
        "Mistakes in the Model creation/definition cell :  \n",
        "1- Model has too many channels than required. For a gray scale simple image of 28x28,  2048 channels are not required. Model is unable to classify the image and hence accuracy is very low and takes lot of time to train.  \n",
        "2- There not many features (28x28=784) input image that call for 2084 channels, hence number of channels should be changed to; starting with 32 in first layer  and 64 in next layers. Limiting the number of channels at 64 improves the accuracy significantly to 99%  \n",
        "3-  Batch size is very low, can be increased to atleast 120.  \n",
        "4- API call; model.add(Convolution2D(....)) is outdate for the latest Keras version. Updated call should be as \"model.add(Conv2D(256, (3, 3), \".... This throws warning \"UserWarning: Update your `Conv2D` call to the Keras 2 API: `Conv2D(32, (3, 3), activation=\"relu\", input_shape=(28, 28, 1...)` after removing the cwd from sys.path.\"  However it is observed that changing the function call to (ConvD(32, (3,3)...)) accuracy dropped to a range of 50% to 70%.\n"
      ]
    },
    {
      "cell_type": "code",
      "metadata": {
        "id": "bRDUsIbOsTFN",
        "colab_type": "code",
        "outputId": "ca3eecde-a263-46f3-c485-044750d465d1",
        "colab": {
          "base_uri": "https://localhost:8080/",
          "height": 787
        }
      },
      "source": [
        "##Following is the corrected model\n",
        "\n",
        "#from keras.layers import Convolution2D #as Conv2D\n",
        "from keras.layers import Activation, MaxPooling2D\n",
        "\n",
        "model2 = Sequential() \n",
        "\n",
        "model2.add(Convolution2D(32, 3, 3, activation='relu', input_shape=(28,28,1)))\n",
        "model2.add(Convolution2D(64, 3, 3, activation='relu'))\n",
        "model2.add(Convolution2D(64, 3, 3, activation='relu'))\n",
        "\n",
        "\n",
        "model2.add(MaxPooling2D(pool_size=(2, 2)))\n",
        "\n",
        "model2.add(Convolution2D(64, 3, 3, activation='relu'))\n",
        "model2.add(Convolution2D(64, 3, 3, activation='relu'))\n",
        "model2.add(Convolution2D(64, 3, 3, activation='relu'))\n",
        "model2.add(Convolution2D(64, 3, 3, activation='relu'))\n",
        "model2.add(Convolution2D(10, 3, 3, activation='relu'))\n",
        "\n",
        "\n",
        "model2.add(Flatten())\n",
        "model2.add(Activation('softmax'))\n",
        "\n",
        "model2.summary()"
      ],
      "execution_count": 0,
      "outputs": [
        {
          "output_type": "stream",
          "text": [
            "_________________________________________________________________\n",
            "Layer (type)                 Output Shape              Param #   \n",
            "=================================================================\n",
            "conv2d_9 (Conv2D)            (None, 26, 26, 32)        320       \n",
            "_________________________________________________________________\n",
            "conv2d_10 (Conv2D)           (None, 24, 24, 64)        18496     \n",
            "_________________________________________________________________\n",
            "conv2d_11 (Conv2D)           (None, 22, 22, 64)        36928     \n",
            "_________________________________________________________________\n",
            "max_pooling2d_2 (MaxPooling2 (None, 11, 11, 64)        0         \n",
            "_________________________________________________________________\n",
            "conv2d_12 (Conv2D)           (None, 9, 9, 64)          36928     \n",
            "_________________________________________________________________\n",
            "conv2d_13 (Conv2D)           (None, 7, 7, 64)          36928     \n",
            "_________________________________________________________________\n",
            "conv2d_14 (Conv2D)           (None, 5, 5, 64)          36928     \n",
            "_________________________________________________________________\n",
            "conv2d_15 (Conv2D)           (None, 3, 3, 64)          36928     \n",
            "_________________________________________________________________\n",
            "conv2d_16 (Conv2D)           (None, 1, 1, 10)          5770      \n",
            "_________________________________________________________________\n",
            "flatten_2 (Flatten)          (None, 10)                0         \n",
            "_________________________________________________________________\n",
            "activation_2 (Activation)    (None, 10)                0         \n",
            "=================================================================\n",
            "Total params: 209,226\n",
            "Trainable params: 209,226\n",
            "Non-trainable params: 0\n",
            "_________________________________________________________________\n"
          ],
          "name": "stdout"
        },
        {
          "output_type": "stream",
          "text": [
            "/usr/local/lib/python3.6/dist-packages/ipykernel_launcher.py:5: UserWarning: Update your `Conv2D` call to the Keras 2 API: `Conv2D(32, (3, 3), activation=\"relu\", input_shape=(28, 28, 1...)`\n",
            "  \"\"\"\n",
            "/usr/local/lib/python3.6/dist-packages/ipykernel_launcher.py:6: UserWarning: Update your `Conv2D` call to the Keras 2 API: `Conv2D(64, (3, 3), activation=\"relu\")`\n",
            "  \n",
            "/usr/local/lib/python3.6/dist-packages/ipykernel_launcher.py:7: UserWarning: Update your `Conv2D` call to the Keras 2 API: `Conv2D(64, (3, 3), activation=\"relu\")`\n",
            "  import sys\n",
            "/usr/local/lib/python3.6/dist-packages/ipykernel_launcher.py:12: UserWarning: Update your `Conv2D` call to the Keras 2 API: `Conv2D(64, (3, 3), activation=\"relu\")`\n",
            "  if sys.path[0] == '':\n",
            "/usr/local/lib/python3.6/dist-packages/ipykernel_launcher.py:13: UserWarning: Update your `Conv2D` call to the Keras 2 API: `Conv2D(64, (3, 3), activation=\"relu\")`\n",
            "  del sys.path[0]\n",
            "/usr/local/lib/python3.6/dist-packages/ipykernel_launcher.py:14: UserWarning: Update your `Conv2D` call to the Keras 2 API: `Conv2D(64, (3, 3), activation=\"relu\")`\n",
            "  \n",
            "/usr/local/lib/python3.6/dist-packages/ipykernel_launcher.py:15: UserWarning: Update your `Conv2D` call to the Keras 2 API: `Conv2D(64, (3, 3), activation=\"relu\")`\n",
            "  from ipykernel import kernelapp as app\n",
            "/usr/local/lib/python3.6/dist-packages/ipykernel_launcher.py:16: UserWarning: Update your `Conv2D` call to the Keras 2 API: `Conv2D(10, (3, 3), activation=\"relu\")`\n",
            "  app.launch_new_instance()\n"
          ],
          "name": "stderr"
        }
      ]
    },
    {
      "cell_type": "code",
      "metadata": {
        "id": "bNayPIQbrZvZ",
        "colab_type": "code",
        "outputId": "a428afbc-74be-4f8d-922b-b4d2af35b115",
        "colab": {
          "base_uri": "https://localhost:8080/",
          "height": 400
        }
      },
      "source": [
        "model2.compile(loss='categorical_crossentropy',\n",
        "             optimizer='adam',\n",
        "             metrics=['accuracy'])\n",
        "\n",
        "model2.fit(X_train, Y_train, batch_size=120, nb_epoch=10, verbose=1)\n",
        "\n"
      ],
      "execution_count": 0,
      "outputs": [
        {
          "output_type": "stream",
          "text": [
            "/usr/local/lib/python3.6/dist-packages/ipykernel_launcher.py:5: UserWarning: The `nb_epoch` argument in `fit` has been renamed `epochs`.\n",
            "  \"\"\"\n"
          ],
          "name": "stderr"
        },
        {
          "output_type": "stream",
          "text": [
            "Epoch 1/10\n",
            "60000/60000 [==============================] - 7s 116us/step - loss: 0.2186 - acc: 0.9068\n",
            "Epoch 2/10\n",
            "60000/60000 [==============================] - 6s 107us/step - loss: 0.2156 - acc: 0.9077\n",
            "Epoch 3/10\n",
            "60000/60000 [==============================] - 6s 108us/step - loss: 0.2152 - acc: 0.9078\n",
            "Epoch 4/10\n",
            "60000/60000 [==============================] - 6s 107us/step - loss: 0.2161 - acc: 0.9076\n",
            "Epoch 5/10\n",
            "60000/60000 [==============================] - 6s 106us/step - loss: 0.2128 - acc: 0.9085\n",
            "Epoch 6/10\n",
            "60000/60000 [==============================] - 6s 106us/step - loss: 0.2167 - acc: 0.9073\n",
            "Epoch 7/10\n",
            "60000/60000 [==============================] - 6s 105us/step - loss: 0.2132 - acc: 0.9085\n",
            "Epoch 8/10\n",
            "60000/60000 [==============================] - 6s 108us/step - loss: 0.2140 - acc: 0.9081\n",
            "Epoch 9/10\n",
            "60000/60000 [==============================] - 6s 106us/step - loss: 0.2139 - acc: 0.9081\n",
            "Epoch 10/10\n",
            "60000/60000 [==============================] - 6s 106us/step - loss: 0.2132 - acc: 0.9083\n"
          ],
          "name": "stdout"
        },
        {
          "output_type": "execute_result",
          "data": {
            "text/plain": [
              "<keras.callbacks.History at 0x7fa410f422b0>"
            ]
          },
          "metadata": {
            "tags": []
          },
          "execution_count": 22
        }
      ]
    },
    {
      "cell_type": "code",
      "metadata": {
        "id": "-fc_c6zLrl2i",
        "colab_type": "code",
        "outputId": "7194e721-ed5e-458a-b16a-7e63d87a3647",
        "colab": {
          "base_uri": "https://localhost:8080/",
          "height": 33
        }
      },
      "source": [
        "score = model2.evaluate(X_test, Y_test, verbose=0)\n",
        "\n",
        "print(score)"
      ],
      "execution_count": 0,
      "outputs": [
        {
          "output_type": "stream",
          "text": [
            "[0.2408328490269967, 0.9037]\n"
          ],
          "name": "stdout"
        }
      ]
    },
    {
      "cell_type": "code",
      "metadata": {
        "id": "RNiM9Ww3rsD-",
        "colab_type": "code",
        "outputId": "d95ad70e-9639-4bef-94d5-b280ecc3a297",
        "colab": {
          "base_uri": "https://localhost:8080/",
          "height": 333
        }
      },
      "source": [
        "y_pred2 = model2.predict(X_test)\n",
        "\n",
        "print(y_pred2[:9])\n",
        "print(y_test[:9])\n"
      ],
      "execution_count": 0,
      "outputs": [
        {
          "output_type": "stream",
          "text": [
            "[[1.3298888e-11 1.3298888e-11 1.3298888e-11 1.3298888e-11 1.3298888e-11\n",
            "  1.3298888e-11 1.3298888e-11 1.0000000e+00 1.3298888e-11 1.3298888e-11]\n",
            " [6.0240930e-11 6.0240930e-11 1.0000000e+00 6.0240930e-11 6.0240930e-11\n",
            "  6.0240930e-11 6.0240930e-11 6.0240930e-11 6.0240930e-11 6.0240930e-11]\n",
            " [6.1686424e-06 9.9993801e-01 6.1686424e-06 6.1686424e-06 6.1686424e-06\n",
            "  6.1686424e-06 6.1686424e-06 1.2682934e-05 6.1686424e-06 6.1686424e-06]\n",
            " [9.9999988e-01 5.0359827e-09 5.0359827e-09 5.0359827e-09 5.0359827e-09\n",
            "  5.0359827e-09 8.8303921e-08 5.0359827e-09 9.5249160e-09 4.1547295e-08]\n",
            " [3.3409050e-11 3.3409050e-11 3.3409050e-11 3.3409050e-11 1.0000000e+00\n",
            "  3.3409050e-11 3.3409050e-11 3.3409050e-11 3.3409050e-11 3.3409050e-11]\n",
            " [4.3471999e-08 9.9999833e-01 4.3471999e-08 4.3471999e-08 6.8006024e-08\n",
            "  4.3471999e-08 4.3471999e-08 1.2274419e-06 4.3471999e-08 4.3471999e-08]\n",
            " [2.5006683e-09 2.5006683e-09 2.5006683e-09 2.5006683e-09 9.9999952e-01\n",
            "  2.5006683e-09 2.5006683e-09 1.9347769e-07 2.5006683e-09 2.3699640e-07]\n",
            " [1.3817754e-09 1.3817754e-09 1.3817754e-09 1.3817754e-09 8.4331218e-09\n",
            "  1.3817754e-09 1.3817754e-09 1.3817754e-09 2.8080838e-09 1.0000000e+00]\n",
            " [6.7485973e-02 6.7485973e-02 6.7485973e-02 6.7485973e-02 6.7485973e-02\n",
            "  6.7485973e-02 3.9262620e-01 6.7485973e-02 6.7485973e-02 6.7485973e-02]]\n",
            "[7 2 1 0 4 1 4 9 5]\n"
          ],
          "name": "stdout"
        }
      ]
    },
    {
      "cell_type": "markdown",
      "metadata": {
        "id": "3xuTObS4NdN6",
        "colab_type": "text"
      },
      "source": [
        "Accuracy of prediction is much better, matches with the labels."
      ]
    }
  ]
}